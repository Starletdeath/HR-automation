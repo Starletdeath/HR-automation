{
 "cells": [
  {
   "cell_type": "code",
   "execution_count": 1,
   "metadata": {},
   "outputs": [],
   "source": [
    "import time\n",
    "from time import sleep\n",
    "from bs4 import BeautifulSoup\n",
    "from selenium import webdriver\n",
    "from selenium.webdriver.common.keys import Keys\n",
    "from selenium.webdriver.firefox.firefox_binary import FirefoxBinary"
   ]
  },
  {
   "cell_type": "code",
   "execution_count": 2,
   "metadata": {},
   "outputs": [
    {
     "name": "stderr",
     "output_type": "stream",
     "text": [
      "<ipython-input-2-ec09c1531aac>:3: DeprecationWarning: firefox_binary has been deprecated, please pass in a Service object\n",
      "  wd=webdriver.Firefox(firefox_binary=binary)\n"
     ]
    }
   ],
   "source": [
    "binary = FirefoxBinary(r'C:\\Program Files\\Mozilla Firefox\\firefox.exe')\n",
    "#wd = webdriver.Chrome()\n",
    "wd=webdriver.Firefox(firefox_binary=binary)\n"
   ]
  },
  {
   "cell_type": "code",
   "execution_count": 3,
   "metadata": {},
   "outputs": [
    {
     "name": "stderr",
     "output_type": "stream",
     "text": [
      "<ipython-input-3-b1b9ffe60a87>:3: DeprecationWarning: find_element_by_* commands are deprecated. Please use find_element() instead\n",
      "  username = wd.find_element_by_id(\"username\")\n",
      "<ipython-input-3-b1b9ffe60a87>:5: DeprecationWarning: find_element_by_* commands are deprecated. Please use find_element() instead\n",
      "  pword = wd.find_element_by_id(\"password\")\n"
     ]
    }
   ],
   "source": [
    "wd.get(\"https://linkedin.com/login\")\n",
    "sleep(5)\n",
    "username = wd.find_element_by_id(\"username\")\n",
    "username.send_keys(\"\")\n",
    "pword = wd.find_element_by_id(\"password\")\n",
    "pword.send_keys(\"\")\n",
    "pword.send_keys(Keys.RETURN)\n"
   ]
  },
  {
   "cell_type": "code",
   "execution_count": 4,
   "metadata": {},
   "outputs": [],
   "source": [
    "profile_url = \"https://www.linkedin.com/in/jonmcnamara/\"\n",
    "wd.get(profile_url)"
   ]
  },
  {
   "cell_type": "code",
   "execution_count": 5,
   "metadata": {},
   "outputs": [],
   "source": [
    "start = time.time()\n",
    "initialScroll = 0\n",
    "finalScroll = 1000\n",
    "  \n",
    "while True:\n",
    "    wd.execute_script(f\"window.scrollTo({initialScroll},{finalScroll})\")\n",
    "    initialScroll = finalScroll\n",
    "    finalScroll += 1000\n",
    "    time.sleep(3)\n",
    "    end = time.time()\n",
    "    if round(end - start) > 20:\n",
    "        break"
   ]
  },
  {
   "cell_type": "code",
   "execution_count": 6,
   "metadata": {},
   "outputs": [],
   "source": [
    "source=wd.page_source\n",
    "bs=BeautifulSoup(source,'lxml')"
   ]
  },
  {
   "cell_type": "code",
   "execution_count": 7,
   "metadata": {},
   "outputs": [],
   "source": [
    "intro = bs.find('div', {'class': 'mt2 relative'})\n"
   ]
  },
  {
   "cell_type": "code",
   "execution_count": 8,
   "metadata": {},
   "outputs": [
    {
     "name": "stdout",
     "output_type": "stream",
     "text": [
      "Name --> John McNamara \n",
      "Works At --> IBM Master Inventor, Honorary Professor, Speaker and IBM UK University Programs Lead \n",
      "Location --> Winchester, England, United Kingdom\n"
     ]
    }
   ],
   "source": [
    "name_loc = intro.find(\"h1\")\n",
    "name = name_loc.get_text().strip()\n",
    "works_at_loc = intro.find(\"div\", {'class': 'text-body-medium'})\n",
    "works_at = works_at_loc.get_text().strip()\n",
    "location_loc = intro.find_all(\"span\", {'class': 'text-body-small'})\n",
    "location = location_loc[1].get_text().strip()\n",
    "print(\"Name -->\", name,\n",
    "      \"\\nWorks At -->\", works_at,\n",
    "      \"\\nLocation -->\", location)"
   ]
  },
  {
   "cell_type": "code",
   "execution_count": 9,
   "metadata": {},
   "outputs": [
    {
     "name": "stdout",
     "output_type": "stream",
     "text": [
      "John is an IBM Master Inventor, Honorary Professor, Research Fellow, Impact Fellow and currently leads IBM UK University Programs. John has a diverse background that includes consultancy, performance, service & product delivery, all underpinned by a passion for innovation. Most recently his work leading the Innovation Centre technologist team has allowed him to combine these interests in order to maximise the potential of new technology while solving real problems. John has overseen the delivery of many cognitive cloud-based solutions and understands how to combine technologies to quickly provide value and spur innovation. John is an active inventor with an invention portfolio spanning mobile, A.I, messaging, integration and predictive analytics.Introduction to John McNamara:   http://bit.ly/JohnMcNamaraCognitive Projects: https://prezi.com/view/wyeG4wHvr5lE6HBuXO6r/CATHI: https://prezi.com/view/QWtJv7Hrp5wRSoCViRQS/Fun: https://www.businessinsider.com/ibm-edge-of-space-project-2016-4?r=US&IR=T\n",
      "  \n",
      "      \n",
      "…\n",
      "\n",
      "          see more\n"
     ]
    }
   ],
   "source": [
    "about= bs.find(\"section\", {\"class\": \"pv-profile-section pv-about-section artdeco-card p5 mt4 ember-view\"}).find('div')\n",
    "print(about.get_text().strip())"
   ]
  },
  {
   "cell_type": "code",
   "execution_count": 10,
   "metadata": {},
   "outputs": [
    {
     "name": "stderr",
     "output_type": "stream",
     "text": [
      "<ipython-input-10-c49db0f5fa3e>:2: DeprecationWarning: find_element_by_* commands are deprecated. Please use find_element() instead\n",
      "  exp = wd.find_element_by_id(\"experience-section\")\n"
     ]
    }
   ],
   "source": [
    "        try:\n",
    "            exp = wd.find_element_by_id(\"experience-section\")\n",
    "        except:\n",
    "            exp = None"
   ]
  },
  {
   "cell_type": "code",
   "execution_count": 11,
   "metadata": {},
   "outputs": [
    {
     "name": "stderr",
     "output_type": "stream",
     "text": [
      "C:\\Users\\chand\\AppData\\Roaming\\Python\\Python38\\site-packages\\selenium\\webdriver\\remote\\webelement.py:464: UserWarning: find_elements_by_* commands are deprecated. Please use find_elements() instead\n",
      "  warnings.warn(\"find_elements_by_* commands are deprecated. Please use find_elements() instead\")\n",
      "C:\\Users\\chand\\AppData\\Roaming\\Python\\Python38\\site-packages\\selenium\\webdriver\\remote\\webelement.py:341: UserWarning: find_element_by_* commands are deprecated. Please use find_element() instead\n",
      "  warnings.warn(\"find_element_by_* commands are deprecated. Please use find_element() instead\")\n",
      "C:\\Users\\chand\\AppData\\Roaming\\Python\\Python38\\site-packages\\selenium\\webdriver\\remote\\webelement.py:359: UserWarning: find_elements_by_* commands are deprecated. Please use find_elements() instead\n",
      "  warnings.warn(\"find_elements_by_* commands are deprecated. Please use find_elements() instead\")\n"
     ]
    },
    {
     "name": "stdout",
     "output_type": "stream",
     "text": [
      "Honorary Professor UCL\n",
      "UCL Full-time\n",
      "6 mos\n",
      "United Kingdom\n",
      "Company Name\n",
      "IBM\n",
      "Honorary Professor Sheffield Hallam University\n",
      "Sheffield Hallam University Full-time\n",
      "1 yr 6 mos\n",
      "United Kingdom\n",
      "Visiting Research Fellow\n",
      "The University of Sheffield Full-time\n",
      "2 yrs 6 mos\n",
      "United Kingdom\n",
      "Operations manager (placement year while studying)\n",
      "U.C.I\n",
      "1 yr 1 mo\n",
      "Hull\n"
     ]
    }
   ],
   "source": [
    "if exp is not None:\n",
    "            for position in exp.find_elements_by_class_name(\"pv-position-entity\"):\n",
    "                position_title = position.find_element_by_tag_name(\"h3\").text.strip()\n",
    "                print(position_title)\n",
    "                try:\n",
    "                    company = position.find_elements_by_tag_name(\"p\")[1].text.strip()\n",
    "                    times = str(\n",
    "                        position.find_elements_by_tag_name(\"h4\")[0]\n",
    "                        .find_elements_by_tag_name(\"span\")[1]\n",
    "                        .text.strip()\n",
    "                    )\n",
    "                    print(company)\n",
    "                    from_date = \" \".join(times.split(\" \")[:2])\n",
    "                    to_date = \" \".join(times.split(\" \")[3:])\n",
    "                    duration = (\n",
    "                        position.find_elements_by_tag_name(\"h4\")[1]\n",
    "                        .find_elements_by_tag_name(\"span\")[1]\n",
    "                        .text.strip()\n",
    "                    )\n",
    "                    print(duration)\n",
    "                    location = (\n",
    "                        position.find_elements_by_tag_name(\"h4\")[2]\n",
    "                        .find_elements_by_tag_name(\"span\")[1]\n",
    "                        .text.strip()\n",
    "                    )\n",
    "                    print(location)\n",
    "                    \n",
    "                except:\n",
    "                    company = None\n",
    "                    from_date, to_date, duration, location = (None, None, None, None)\n"
   ]
  },
  {
   "cell_type": "code",
   "execution_count": 12,
   "metadata": {},
   "outputs": [],
   "source": [
    "education= bs.find(\"section\", {\"id\": \"education-section\"}).find('ul')"
   ]
  },
  {
   "cell_type": "code",
   "execution_count": 13,
   "metadata": {},
   "outputs": [
    {
     "name": "stdout",
     "output_type": "stream",
     "text": [
      "University of Humberside\n",
      "mcauley\n"
     ]
    }
   ],
   "source": [
    "education=education.find_all('h3')\n",
    "for i in education:\n",
    "    print(i.get_text().strip())"
   ]
  },
  {
   "cell_type": "code",
   "execution_count": null,
   "metadata": {},
   "outputs": [],
   "source": []
  }
 ],
 "metadata": {
  "kernelspec": {
   "display_name": "Python 3",
   "language": "python",
   "name": "python3"
  },
  "language_info": {
   "codemirror_mode": {
    "name": "ipython",
    "version": 3
   },
   "file_extension": ".py",
   "mimetype": "text/x-python",
   "name": "python",
   "nbconvert_exporter": "python",
   "pygments_lexer": "ipython3",
   "version": "3.8.5"
  }
 },
 "nbformat": 4,
 "nbformat_minor": 4
}
